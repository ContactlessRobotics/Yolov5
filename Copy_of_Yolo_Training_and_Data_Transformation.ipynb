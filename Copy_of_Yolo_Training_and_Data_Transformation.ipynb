{
  "nbformat": 4,
  "nbformat_minor": 0,
  "metadata": {
    "colab": {
      "provenance": []
    },
    "kernelspec": {
      "name": "python3",
      "display_name": "Python 3"
    },
    "language_info": {
      "name": "python"
    }
  },
  "cells": [
    {
      "cell_type": "code",
      "execution_count": null,
      "metadata": {
        "id": "Oyt8vpiGQsLr",
        "colab": {
          "base_uri": "https://localhost:8080/"
        },
        "outputId": "201001d8-317a-437f-b42d-c7dd1fecffaa"
      },
      "outputs": [
        {
          "output_type": "stream",
          "name": "stdout",
          "text": [
            "Mounted at /content/drive\n"
          ]
        }
      ],
      "source": [
        "# Store data on google drive\n",
        "\n",
        "# Probably it on store it fams drive\n",
        "from google.colab import drive\n",
        "drive.mount('/content/drive/MyDrive/DataFams')\n",
        "%cd"
      ]
    },
    {
      "cell_type": "code",
      "source": [],
      "metadata": {
        "id": "IxsggmpSXTXp"
      },
      "execution_count": null,
      "outputs": []
    },
    {
      "cell_type": "code",
      "source": [
        "# Clone github library Yolov5\n",
        "# Johnathan\n",
        "!git clone https://github.com/ultralytics/yolov5\n",
        "\n",
        "# Install requirements.txt\n",
        "!pip install -r requirements.txt"
      ],
      "metadata": {
        "id": "l5zpcLmBRpoo"
      },
      "execution_count": null,
      "outputs": []
    },
    {
      "cell_type": "code",
      "source": [
        "# Test our gpu\n",
        "!nvida-smi"
      ],
      "metadata": {
        "id": "yjChcMTDRyqY"
      },
      "execution_count": null,
      "outputs": []
    },
    {
      "cell_type": "markdown",
      "source": [
        "Data Modification Section - Fit data that we collect so that Yolo can read it (Proper annotations and format)\n",
        "\n",
        "\n",
        "List of data:\n",
        "https://docs.google.com/spreadsheets/d/1-Lk05eF3AubxodY8JFbi6Jkp2rNCOIPYUWPW1v9Up7E/edit?usp=sharing\n",
        "\n",
        "\n",
        "\n",
        "\n",
        "# File Hierachy:\n",
        "\n",
        "\n",
        "/yolov5 <br>\n",
        "&emsp;/yolov5/data/*.yaml - Tells yolo where all the data is (datasets1-3). Example yaml files are in there.\n",
        "\n",
        "/formatted-data<br>\n",
        "&emsp;/dataset1 <br>\n",
        "&emsp;/dataset2 <br>\n",
        "&emsp;/dataset3 <br>\n",
        "\n",
        "/unformatted-data<br>\n",
        "&emsp;/dataset1 <br>\n",
        "&emsp;/dataset2 <br>\n",
        "&emsp;/dataset3 <br>\n"
      ],
      "metadata": {
        "id": "9L8BtPZ6QZ5O"
      }
    },
    {
      "cell_type": "code",
      "source": [],
      "metadata": {
        "id": "DhY244P3StWO"
      },
      "execution_count": null,
      "outputs": []
    },
    {
      "cell_type": "markdown",
      "source": [
        "Yolo Training Section - Where we're going to train the model\n"
      ],
      "metadata": {
        "id": "VySDG839QpOW"
      }
    },
    {
      "cell_type": "markdown",
      "source": [],
      "metadata": {
        "id": "3dG6J8SDXiVi"
      }
    }
  ]
}